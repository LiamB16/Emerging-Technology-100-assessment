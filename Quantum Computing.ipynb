{
 "cells": [
  {
   "cell_type": "markdown",
   "id": "2098ec78",
   "metadata": {},
   "source": [
    "# Quantum Computing"
   ]
  },
  {
   "cell_type": "markdown",
   "id": "cfddd4ba",
   "metadata": {},
   "source": [
    "Quantum Computing is based on the principles of the superposition of matter and quantum entanglement and uses a different computation method from the traditional one. What this means is that quantum computers can use principles of quantum mechanics to overcome the limitations of claccic computers. it makes it possible to perform multiple simultaneous operations and eliminates the tunnel effect that limits current nanometric scale programming. \n",
    "\n",
    "Quantum Computing uses quantum bits or qubits is the quantum mechanical analogue of a classical bit. Bits are what are used for classsical coding, which are either a 0 or 1. Qubits can be written as 0 and 1 and this is the reason it is based on the principles of the superposition. "
   ]
  },
  {
   "cell_type": "code",
   "execution_count": 35,
   "id": "a404f9b1",
   "metadata": {},
   "outputs": [],
   "source": [
    "# Generating random numbers.\n",
    "import numpy as np\n",
    "\n",
    "# Plotting.\n",
    "import seaborn as sns\n",
    "\n",
    "# Random numbers and choices.\n",
    "import random\n",
    "\n",
    "# Combinations and permutation.\n",
    "import itertools"
   ]
  },
  {
   "cell_type": "code",
   "execution_count": 2,
   "id": "aae4ed9a",
   "metadata": {},
   "outputs": [
    {
     "data": {
      "text/plain": [
       "1"
      ]
     },
     "execution_count": 2,
     "metadata": {},
     "output_type": "execute_result"
    }
   ],
   "source": [
    "# Flip one coin.\n",
    "np.random.binomial(1, 0.5)"
   ]
  },
  {
   "cell_type": "code",
   "execution_count": 3,
   "id": "17714ccf",
   "metadata": {},
   "outputs": [
    {
     "data": {
      "text/plain": [
       "array([1, 0, 0, 0, 1, 1, 0, 0, 1, 0, 0, 1, 0, 0, 0, 0, 1, 0, 0, 0, 1, 0,\n",
       "       0, 0, 1, 1, 1, 0, 1, 0, 0, 0, 0, 1, 0, 0, 1, 0, 0, 1, 1, 0, 0, 0,\n",
       "       0, 1, 1, 0, 0, 0, 0, 1, 0, 1, 1, 1, 1, 1, 1, 0, 1, 0, 0, 1, 1, 0,\n",
       "       0, 1, 0, 1, 1, 1, 0, 0, 0, 1, 1, 1, 1, 1, 1, 1, 0, 1, 1, 1, 0, 1,\n",
       "       0, 1, 1, 1, 1, 0, 1, 0, 0, 0, 0, 1])"
      ]
     },
     "execution_count": 3,
     "metadata": {},
     "output_type": "execute_result"
    }
   ],
   "source": [
    "# Flip one hundred coins.\n",
    "np.random.binomial(1, 0.5, 100)"
   ]
  },
  {
   "cell_type": "code",
   "execution_count": 4,
   "id": "7c1b8a60",
   "metadata": {},
   "outputs": [
    {
     "data": {
      "text/plain": [
       "55"
      ]
     },
     "execution_count": 4,
     "metadata": {},
     "output_type": "execute_result"
    }
   ],
   "source": [
    "# Flip a coin one hundred times, counting total heads.\n",
    "np.random.binomial(100, 0.5)"
   ]
  },
  {
   "cell_type": "code",
   "execution_count": 5,
   "id": "c681f270",
   "metadata": {},
   "outputs": [
    {
     "data": {
      "image/png": "[encoded data removed]",
      "text/plain": [
       "<Figure size 432x288 with 1 Axes>"
      ]
     },
     "metadata": {
      "needs_background": "light"
     },
     "output_type": "display_data"
    }
   ],
   "source": [
    "# Should be roughly 50/50.\n",
    "sns.countplot(x=np.random.binomial(1, 0.5, 1000000));"
   ]
  },
  {
   "cell_type": "code",
   "execution_count": 6,
   "id": "b4ec73ef",
   "metadata": {},
   "outputs": [
    {
     "data": {
      "image/png": "[encoded data removed]",
      "text/plain": [
       "<Figure size 432x288 with 1 Axes>"
      ]
     },
     "metadata": {
      "needs_background": "light"
     },
     "output_type": "display_data"
    }
   ],
   "source": [
    "# Outcomes of flipping two coins.\n",
    "sns.countplot(x=np.random.binomial(2, 0.5, 1000000));"
   ]
  },
  {
   "cell_type": "code",
   "execution_count": 7,
   "id": "b29cbfbe",
   "metadata": {},
   "outputs": [
    {
     "data": {
      "image/png": "[encoded data removed]",
      "text/plain": [
       "<Figure size 432x288 with 1 Axes>"
      ]
     },
     "metadata": {
      "needs_background": "light"
     },
     "output_type": "display_data"
    }
   ],
   "source": [
    "# Outcomes of flipping fifty coins.\n",
    "sns.countplot(x=np.random.binomial(50, 0.5, 1000000));"
   ]
  },
  {
   "cell_type": "code",
   "execution_count": 5,
   "id": "5220b314",
   "metadata": {},
   "outputs": [],
   "source": [
    "# Quantum Circuits and Simulators.\n",
    "import qiskit\n",
    "\n",
    "# Qiskit Visualisation.\n",
    "import qiskit.visualization as viz"
   ]
  },
  {
   "cell_type": "code",
   "execution_count": 6,
   "id": "75de6a1a",
   "metadata": {},
   "outputs": [
    {
     "data": {
      "image/png": "[encoded data removed]",
      "text/plain": [
       "<Figure size 193.726x144.48 with 1 Axes>"
      ]
     },
     "execution_count": 6,
     "metadata": {},
     "output_type": "execute_result"
    }
   ],
   "source": [
    "# Create a circuit.\n",
    "circuit = qiskit.QuantumCircuit(1, 1)\n",
    "\n",
    "# Add a gate.\n",
    "circuit.h(0)\n",
    "\n",
    "# Measure.\n",
    "circuit.measure(0, 0)\n",
    "\n",
    "# Draw the circuit\n",
    "circuit.draw(output='mpl')\n",
    "\n"
   ]
  },
  {
   "cell_type": "code",
   "execution_count": 7,
   "id": "23329481",
   "metadata": {},
   "outputs": [
    {
     "data": {
      "image/png": "[encoded data removed]",
      "text/plain": [
       "<Figure size 216x216 with 1 Axes>"
      ]
     },
     "execution_count": 7,
     "metadata": {},
     "output_type": "execute_result"
    }
   ],
   "source": [
    "# Get a simulator.\n",
    "sim = qiskit.Aer.get_backend('aer_simulator')\n",
    "\n",
    "# Simulte the circuit.\n",
    "result = sim.run(circuit).result().get_counts()\n",
    "\n",
    "# Histogram.\n",
    "viz.plot_histogram(result, figsize=(3, 3))"
   ]
  },
  {
   "cell_type": "code",
   "execution_count": 8,
   "id": "3034e923",
   "metadata": {},
   "outputs": [
    {
     "data": {
      "image/png": "[encoded data removed]",
      "text/plain": [
       "<Figure size 193.726x144.48 with 1 Axes>"
      ]
     },
     "execution_count": 8,
     "metadata": {},
     "output_type": "execute_result"
    }
   ],
   "source": [
    "# Create a circuit.\n",
    "circuit = qiskit.QuantumCircuit(1, 1)\n",
    "\n",
    "# Add a gate.\n",
    "circuit.x(0)\n",
    "\n",
    "# Measure.\n",
    "circuit.measure(0, 0)\n",
    "\n",
    "# Draw the circuit\n",
    "circuit.draw(output='mpl')"
   ]
  },
  {
   "cell_type": "code",
   "execution_count": 9,
   "id": "930b6df8",
   "metadata": {},
   "outputs": [
    {
     "data": {
      "image/png": "[encoded data removed]",
      "text/plain": [
       "<Figure size 216x216 with 1 Axes>"
      ]
     },
     "execution_count": 9,
     "metadata": {},
     "output_type": "execute_result"
    }
   ],
   "source": [
    "# Get a simulator.\n",
    "sim = qiskit.Aer.get_backend('aer_simulator')\n",
    "\n",
    "# Simulte the circuit.\n",
    "result = sim.run(circuit).result().get_counts()\n",
    "\n",
    "# Histogram.\n",
    "viz.plot_histogram(result, figsize=(3, 3))"
   ]
  },
  {
   "cell_type": "code",
   "execution_count": 10,
   "id": "f0bed72d",
   "metadata": {},
   "outputs": [
    {
     "data": {
      "image/png": "[encoded data removed]",
      "text/plain": [
       "<Figure size 193.726x144.48 with 1 Axes>"
      ]
     },
     "execution_count": 10,
     "metadata": {},
     "output_type": "execute_result"
    }
   ],
   "source": [
    "# Create a circuit.\n",
    "circuit = qiskit.QuantumCircuit(1, 1)\n",
    "\n",
    "# Add a gate.\n",
    "circuit.y(0)\n",
    "\n",
    "# Measure.\n",
    "circuit.measure(0, 0)\n",
    "\n",
    "# Draw the circuit\n",
    "circuit.draw(output='mpl')"
   ]
  },
  {
   "cell_type": "code",
   "execution_count": 11,
   "id": "1c0ccedd",
   "metadata": {},
   "outputs": [
    {
     "data": {
      "image/png": "[encoded data removed]",
      "text/plain": [
       "<Figure size 216x216 with 1 Axes>"
      ]
     },
     "execution_count": 11,
     "metadata": {},
     "output_type": "execute_result"
    }
   ],
   "source": [
    "# Get a simulator.\n",
    "sim = qiskit.Aer.get_backend('aer_simulator')\n",
    "\n",
    "# Simulte the circuit.\n",
    "result = sim.run(circuit).result().get_counts()\n",
    "\n",
    "# Histogram.\n",
    "viz.plot_histogram(result, figsize=(3, 3))"
   ]
  },
  {
   "cell_type": "code",
   "execution_count": 12,
   "id": "67eee9fb",
   "metadata": {},
   "outputs": [
    {
     "data": {
      "image/png": "[encoded data removed]",
      "text/plain": [
       "<Figure size 193.726x144.48 with 1 Axes>"
      ]
     },
     "execution_count": 12,
     "metadata": {},
     "output_type": "execute_result"
    }
   ],
   "source": [
    "# Create a circuit.\n",
    "circuit = qiskit.QuantumCircuit(1, 1)\n",
    "\n",
    "# Add a gate.\n",
    "circuit.z(0)\n",
    "\n",
    "# Measure.\n",
    "circuit.measure(0, 0)\n",
    "\n",
    "# Draw the circuit\n",
    "circuit.draw(output='mpl')"
   ]
  },
  {
   "cell_type": "code",
   "execution_count": 13,
   "id": "e637f0cb",
   "metadata": {},
   "outputs": [
    {
     "data": {
      "image/png": "[encoded data removed]",
      "text/plain": [
       "<Figure size 216x216 with 1 Axes>"
      ]
     },
     "execution_count": 13,
     "metadata": {},
     "output_type": "execute_result"
    }
   ],
   "source": [
    "# Get a simulator.\n",
    "sim = qiskit.Aer.get_backend('aer_simulator')\n",
    "\n",
    "# Simulte the circuit.\n",
    "result = sim.run(circuit).result().get_counts()\n",
    "\n",
    "# Histogram.\n",
    "viz.plot_histogram(result, figsize=(3, 3))"
   ]
  },
  {
   "cell_type": "code",
   "execution_count": 14,
   "id": "440a46d3",
   "metadata": {},
   "outputs": [
    {
     "data": {
      "image/png": "[encoded data removed]",
      "text/plain": [
       "<Figure size 193.726x144.48 with 1 Axes>"
      ]
     },
     "execution_count": 14,
     "metadata": {},
     "output_type": "execute_result"
    }
   ],
   "source": [
    "# Create a circuit.\n",
    "circuit = qiskit.QuantumCircuit(1, 1)\n",
    "\n",
    "# Add a gate.\n",
    "circuit.t(0)\n",
    "\n",
    "# Measure.\n",
    "circuit.measure(0, 0)\n",
    "\n",
    "# Draw the circuit\n",
    "circuit.draw(output='mpl')"
   ]
  },
  {
   "cell_type": "code",
   "execution_count": 15,
   "id": "6ba431be",
   "metadata": {},
   "outputs": [
    {
     "data": {
      "image/png": "[encoded data removed]",
      "text/plain": [
       "<Figure size 216x216 with 1 Axes>"
      ]
     },
     "execution_count": 15,
     "metadata": {},
     "output_type": "execute_result"
    }
   ],
   "source": [
    "# Get a simulator.\n",
    "sim = qiskit.Aer.get_backend('aer_simulator')\n",
    "\n",
    "# Simulte the circuit.\n",
    "result = sim.run(circuit).result().get_counts()\n",
    "\n",
    "# Histogram.\n",
    "viz.plot_histogram(result, figsize=(3, 3))"
   ]
  },
  {
   "cell_type": "markdown",
   "id": "ded08812",
   "metadata": {},
   "source": [
    "# Difference between quantum computing and traditional computing"
   ]
  },
  {
   "cell_type": "markdown",
   "id": "4617b085",
   "metadata": {},
   "source": [
    "There are a few differences between quantum computing and traditional computing. One of these differences is that quantum computing doesn't have it's own programming code, but requires specific algorithms. Traditional computing requires programming languages like Java or Python. Because of the processing power of quantum computing, quantum computers are used in jobs that are scientific, medical or technological. Traditional computers are mostly used for PCs and laptops.\n",
    "\n",
    "The architecture is also different because the taditional computers have memory and processors. Quantum computers relies on qubits to make it run. Quantum computers require a specific temperature (-273°C), no atomsphereic pressure and  insulation from the earth's magnetic field to run because when the machine interacts with external particles. Failure to meet these requirements can result in measurement errors. Traditional computers don't suffer from these limitations."
   ]
  },
  {
   "cell_type": "code",
   "execution_count": null,
   "id": "e673e62f",
   "metadata": {},
   "outputs": [],
   "source": []
  },
  {
   "cell_type": "code",
   "execution_count": 16,
   "id": "a7bb389e",
   "metadata": {},
   "outputs": [
    {
     "data": {
      "image/png": "[encoded data removed]",
      "text/plain": [
       "<Figure size 267.052x204.68 with 1 Axes>"
      ]
     },
     "execution_count": 16,
     "metadata": {},
     "output_type": "execute_result"
    }
   ],
   "source": [
    "# Create a circuit.\n",
    "circuit = qiskit.QuantumCircuit(2, 2)\n",
    "\n",
    "# Add a gate.\n",
    "circuit.cnot(0, 1)\n",
    "\n",
    "# Measure.\n",
    "circuit.measure((0, 1), (0, 1))\n",
    "\n",
    "# Draw the circuit\n",
    "circuit.draw(output='mpl')"
   ]
  },
  {
   "cell_type": "code",
   "execution_count": 17,
   "id": "545f4b56",
   "metadata": {},
   "outputs": [
    {
     "data": {
      "image/png": "[encoded data removed]",
      "text/plain": [
       "<Figure size 216x216 with 1 Axes>"
      ]
     },
     "execution_count": 17,
     "metadata": {},
     "output_type": "execute_result"
    }
   ],
   "source": [
    "# Get a simulator.\n",
    "sim = qiskit.Aer.get_backend('aer_simulator')\n",
    "\n",
    "# Simulte the circuit.\n",
    "result = sim.run(circuit).result().get_counts()\n",
    "\n",
    "# Histogram.\n",
    "viz.plot_histogram(result, figsize=(3, 3))"
   ]
  },
  {
   "cell_type": "code",
   "execution_count": 18,
   "id": "e18413b7",
   "metadata": {},
   "outputs": [
    {
     "data": {
      "image/png": "[encoded data removed]",
      "text/plain": [
       "<Figure size 387.452x204.68 with 1 Axes>"
      ]
     },
     "execution_count": 18,
     "metadata": {},
     "output_type": "execute_result"
    }
   ],
   "source": [
    "# Create a circuit.\n",
    "circuit = qiskit.QuantumCircuit(2, 2)\n",
    "\n",
    "# Set the first qubit to |1>.\n",
    "circuit.x(0)\n",
    "\n",
    "# Add a barrier.\n",
    "circuit.barrier()\n",
    "\n",
    "# Add a gate.\n",
    "circuit.cnot(0, 1)\n",
    "\n",
    "# Measure.\n",
    "circuit.measure((0, 1), (0, 1))\n",
    "\n",
    "# Draw the circuit\n",
    "circuit.draw(output='mpl')"
   ]
  },
  {
   "cell_type": "code",
   "execution_count": 19,
   "id": "f018d0e7",
   "metadata": {},
   "outputs": [
    {
     "data": {
      "image/png": "[encoded data removed]",
      "text/plain": [
       "<Figure size 216x216 with 1 Axes>"
      ]
     },
     "execution_count": 19,
     "metadata": {},
     "output_type": "execute_result"
    }
   ],
   "source": [
    "# Get a simulator.\n",
    "sim = qiskit.Aer.get_backend('aer_simulator')\n",
    "\n",
    "# Simulte the circuit.\n",
    "result = sim.run(circuit).result().get_counts()\n",
    "\n",
    "# Histogram.\n",
    "viz.plot_histogram(result, figsize=(3, 3))"
   ]
  },
  {
   "cell_type": "code",
   "execution_count": 20,
   "id": "933a8772",
   "metadata": {},
   "outputs": [
    {
     "data": {
      "image/png": "[encoded data removed]",
      "text/plain": [
       "<Figure size 327.252x204.68 with 1 Axes>"
      ]
     },
     "execution_count": 20,
     "metadata": {},
     "output_type": "execute_result"
    }
   ],
   "source": [
    "# Create a circuit.\n",
    "circuit = qiskit.QuantumCircuit(2, 2)\n",
    "\n",
    "# Apply H gate to first qubit.\n",
    "circuit.h(0)\n",
    "\n",
    "# Add a gate.\n",
    "circuit.cnot(0, 1)\n",
    "\n",
    "# Measure.\n",
    "circuit.measure((0, 1), (0, 1))\n",
    "\n",
    "# Draw the circuit\n",
    "circuit.draw(output='mpl')"
   ]
  },
  {
   "cell_type": "code",
   "execution_count": 21,
   "id": "d70cbf41",
   "metadata": {},
   "outputs": [
    {
     "data": {
      "image/png": "[encoded data removed]",
      "text/plain": [
       "<Figure size 216x216 with 1 Axes>"
      ]
     },
     "execution_count": 21,
     "metadata": {},
     "output_type": "execute_result"
    }
   ],
   "source": [
    "# Get a simulator.\n",
    "sim = qiskit.Aer.get_backend('aer_simulator')\n",
    "\n",
    "# Simulte the circuit.\n",
    "result = sim.run(circuit).result().get_counts()\n",
    "\n",
    "# Histogram.\n",
    "viz.plot_histogram(result, figsize=(3, 3))"
   ]
  },
  {
   "cell_type": "code",
   "execution_count": 23,
   "id": "1cb094ff",
   "metadata": {},
   "outputs": [
    {
     "data": {
      "image/png": "[encoded data removed]",
      "text/plain": [
       "<Figure size 267.052x204.68 with 1 Axes>"
      ]
     },
     "execution_count": 23,
     "metadata": {},
     "output_type": "execute_result"
    }
   ],
   "source": [
    "# Create a circuit.\n",
    "circuit = qiskit.QuantumCircuit(2, 1)\n",
    "\n",
    "# Apply H gate to first qubit.\n",
    "circuit.h(0)\n",
    "\n",
    "# Add a gate.\n",
    "circuit.cnot(0, 1)\n",
    "\n",
    "# Measure.\n",
    "circuit.measure(0, 0)\n",
    "\n",
    "# Draw the circuit\n",
    "circuit.draw(output='mpl')"
   ]
  },
  {
   "cell_type": "code",
   "execution_count": 24,
   "id": "49bd1177",
   "metadata": {},
   "outputs": [
    {
     "data": {
      "image/png": "[encoded data removed]",
      "text/plain": [
       "<Figure size 216x216 with 1 Axes>"
      ]
     },
     "execution_count": 24,
     "metadata": {},
     "output_type": "execute_result"
    }
   ],
   "source": [
    "# Get a simulator.\n",
    "sim = qiskit.Aer.get_backend('aer_simulator')\n",
    "\n",
    "# Simulte the circuit.\n",
    "result = sim.run(circuit).result().get_counts()\n",
    "\n",
    "# Histogram.\n",
    "viz.plot_histogram(result, figsize=(3, 3))"
   ]
  },
  {
   "cell_type": "markdown",
   "id": "a61b46a9",
   "metadata": {},
   "source": [
    "# Deutsch Jozsa Algorithm"
   ]
  },
  {
   "cell_type": "markdown",
   "id": "dfe60aaa",
   "metadata": {},
   "source": [
    "The Deutsch-Jozsa Algorithm was invented by David Deutsch and Richard Jozsa and was the first example of a quantum algorithm that performs better than the best classical algorithm. The Deutsch algorithm was invented by to show that there are advantages to using quantum computing as a computational tool to solve problems. It speeds up searches to determine if it has a certain property. The algorithm achieves this by requiring that the function needs be called once with a quantum algorithm instead of twice with a classical algorithm."
   ]
  },
  {
   "cell_type": "markdown",
   "id": "a364b8b8",
   "metadata": {},
   "source": [
    "The code below demonstrates this. The property of the given Boolean function is that it is guaranteed to either be balanced or constant. A constant function returns all 0s or all 1s for any input. Balanced function returns 0's for half of the inputs and 1's for the other half.\n"
   ]
  },
  {
   "cell_type": "code",
   "execution_count": 1,
   "id": "236e574d",
   "metadata": {},
   "outputs": [],
   "source": [
    "def f1(x):\n",
    "    if x == 0:\n",
    "        return 0\n",
    "    else:\n",
    "        return 0"
   ]
  },
  {
   "cell_type": "code",
   "execution_count": 26,
   "id": "11186c71",
   "metadata": {},
   "outputs": [],
   "source": [
    "def f2(x):\n",
    "    if x == 0:\n",
    "        return 0\n",
    "    else:\n",
    "        return 1"
   ]
  },
  {
   "cell_type": "code",
   "execution_count": 27,
   "id": "04cfb7ba",
   "metadata": {},
   "outputs": [],
   "source": [
    "def f3(x):\n",
    "    if x == 0:\n",
    "        return 1\n",
    "    else:\n",
    "        return 0"
   ]
  },
  {
   "cell_type": "code",
   "execution_count": 28,
   "id": "4241140d",
   "metadata": {},
   "outputs": [],
   "source": [
    "def f4(x):\n",
    "    if x == 0:\n",
    "        return 1\n",
    "    else:\n",
    "        return 1"
   ]
  },
  {
   "cell_type": "code",
   "execution_count": 29,
   "id": "8aeee166",
   "metadata": {},
   "outputs": [],
   "source": [
    "L = [f1, f2, f3, f4]"
   ]
  },
  {
   "cell_type": "code",
   "execution_count": 36,
   "id": "4ff5358b",
   "metadata": {},
   "outputs": [],
   "source": [
    "f = random.choice(L)"
   ]
  },
  {
   "cell_type": "code",
   "execution_count": 37,
   "id": "081c1db6",
   "metadata": {},
   "outputs": [
    {
     "data": {
      "text/plain": [
       "0"
      ]
     },
     "execution_count": 37,
     "metadata": {},
     "output_type": "execute_result"
    }
   ],
   "source": [
    "f(0)"
   ]
  },
  {
   "cell_type": "code",
   "execution_count": 38,
   "id": "88645b37",
   "metadata": {},
   "outputs": [
    {
     "data": {
      "text/plain": [
       "1"
      ]
     },
     "execution_count": 38,
     "metadata": {},
     "output_type": "execute_result"
    }
   ],
   "source": [
    "f(1)"
   ]
  },
  {
   "cell_type": "markdown",
   "id": "9b214bf6",
   "metadata": {},
   "source": []
  },
  {
   "cell_type": "markdown",
   "id": "454e7460",
   "metadata": {},
   "source": []
  },
  {
   "cell_type": "markdown",
   "id": "7970eb28",
   "metadata": {},
   "source": [
    "# Oracles"
   ]
  },
  {
   "cell_type": "code",
   "execution_count": 40,
   "id": "c797e2d9",
   "metadata": {},
   "outputs": [
    {
     "data": {
      "image/png": "[encoded data removed]",
      "text/plain": [
       "<Figure size 267.052x204.68 with 1 Axes>"
      ]
     },
     "execution_count": 40,
     "metadata": {},
     "output_type": "execute_result"
    }
   ],
   "source": [
    "top = qiskit.QuantumCircuit(2, 1)\n",
    "\n",
    "top.initialize((1, 0), 0)\n",
    "\n",
    "top.initialize((0, 1), 1)\n",
    "\n",
    "top.h((0, 1))\n",
    "\n",
    "top.barrier()\n",
    "\n",
    "top.draw(output='mpl')"
   ]
  },
  {
   "cell_type": "code",
   "execution_count": 41,
   "id": "890cf924",
   "metadata": {},
   "outputs": [
    {
     "data": {
      "image/png": "[encoded data removed]",
      "text/plain": [
       "<Figure size 267.052x204.68 with 1 Axes>"
      ]
     },
     "execution_count": 41,
     "metadata": {},
     "output_type": "execute_result"
    }
   ],
   "source": [
    "end = qiskit.QuantumCircuit(2, 1)\n",
    "\n",
    "end.barrier()\n",
    "\n",
    "end.h(0)\n",
    "\n",
    "end.measure(0, 0)\n",
    "\n",
    "end.draw(output='mpl')"
   ]
  },
  {
   "cell_type": "code",
   "execution_count": 42,
   "id": "cf3b6010",
   "metadata": {},
   "outputs": [
    {
     "data": {
      "image/png": "[encoded data removed]",
      "text/plain": [
       "<Figure size 146.652x204.68 with 1 Axes>"
      ]
     },
     "execution_count": 42,
     "metadata": {},
     "output_type": "execute_result"
    }
   ],
   "source": [
    "f1 = qiskit.QuantumCircuit(2, 1)\n",
    "\n",
    "f1.i((0, 1))\n",
    "\n",
    "f1.draw(output='mpl')"
   ]
  },
  {
   "cell_type": "code",
   "execution_count": 43,
   "id": "82da6e4d",
   "metadata": {},
   "outputs": [
    {
     "name": "stderr",
     "output_type": "stream",
     "text": [
      "C:\\Users\\Liam\\AppData\\Local\\Temp/ipykernel_23760/2062471468.py:1: DeprecationWarning: The QuantumCircuit.__add__() method is being deprecated.Use the compose() method which is more flexible w.r.t circuit register compatibility.\n",
      "  circuit = top + f1 + end\n"
     ]
    },
    {
     "data": {
      "image/png": "[encoded data removed]",
      "text/plain": [
       "<Figure size 507.852x204.68 with 1 Axes>"
      ]
     },
     "execution_count": 43,
     "metadata": {},
     "output_type": "execute_result"
    }
   ],
   "source": [
    "circuit = top + f1 + end\n",
    "\n",
    "circuit.draw(output='mpl')"
   ]
  },
  {
   "cell_type": "code",
   "execution_count": 44,
   "id": "05e393d6",
   "metadata": {},
   "outputs": [
    {
     "name": "stdout",
     "output_type": "stream",
     "text": [
      "{'0': 1024}\n"
     ]
    }
   ],
   "source": [
    "sim = qiskit.Aer.get_backend('aer_simulator')\n",
    "\n",
    "result = sim.run(circuit).result().get_counts()\n",
    "\n",
    "print(result)"
   ]
  },
  {
   "cell_type": "code",
   "execution_count": 45,
   "id": "d1690910",
   "metadata": {},
   "outputs": [
    {
     "data": {
      "image/png": "[encoded data removed]",
      "text/plain": [
       "<Figure size 146.652x204.68 with 1 Axes>"
      ]
     },
     "execution_count": 45,
     "metadata": {},
     "output_type": "execute_result"
    }
   ],
   "source": [
    "f4 = qiskit.QuantumCircuit(2, 1)\n",
    "\n",
    "f4.i(0)\n",
    "\n",
    "f4.x(1)\n",
    "\n",
    "f4.draw(output='mpl')"
   ]
  },
  {
   "cell_type": "code",
   "execution_count": 46,
   "id": "5dd88ec9",
   "metadata": {},
   "outputs": [
    {
     "name": "stderr",
     "output_type": "stream",
     "text": [
      "C:\\Users\\Liam\\AppData\\Local\\Temp/ipykernel_23760/2403865204.py:1: DeprecationWarning: The QuantumCircuit.__add__() method is being deprecated.Use the compose() method which is more flexible w.r.t circuit register compatibility.\n",
      "  circuit = top + f4 + end\n"
     ]
    },
    {
     "data": {
      "image/png": "[encoded data removed]",
      "text/plain": [
       "<Figure size 507.852x204.68 with 1 Axes>"
      ]
     },
     "execution_count": 46,
     "metadata": {},
     "output_type": "execute_result"
    }
   ],
   "source": [
    "circuit = top + f4 + end\n",
    "\n",
    "circuit.draw(output='mpl')"
   ]
  },
  {
   "cell_type": "code",
   "execution_count": 47,
   "id": "7a85c306",
   "metadata": {},
   "outputs": [
    {
     "name": "stdout",
     "output_type": "stream",
     "text": [
      "{'0': 1024}\n"
     ]
    }
   ],
   "source": [
    "sim = qiskit.Aer.get_backend('aer_simulator')\n",
    "\n",
    "result = sim.run(circuit).result().get_counts()\n",
    "\n",
    "print(result)"
   ]
  },
  {
   "cell_type": "code",
   "execution_count": 48,
   "id": "b576cc81",
   "metadata": {},
   "outputs": [
    {
     "data": {
      "image/png": "[encoded data removed]",
      "text/plain": [
       "<Figure size 146.652x204.68 with 1 Axes>"
      ]
     },
     "execution_count": 48,
     "metadata": {},
     "output_type": "execute_result"
    }
   ],
   "source": [
    "f2 = qiskit.QuantumCircuit(2, 1)\n",
    "\n",
    "f2.cnot(0, 1)\n",
    "\n",
    "f2.draw(output='mpl')"
   ]
  },
  {
   "cell_type": "code",
   "execution_count": 49,
   "id": "2c897614",
   "metadata": {},
   "outputs": [
    {
     "name": "stderr",
     "output_type": "stream",
     "text": [
      "C:\\Users\\Liam\\AppData\\Local\\Temp/ipykernel_23760/3939406040.py:1: DeprecationWarning: The QuantumCircuit.__add__() method is being deprecated.Use the compose() method which is more flexible w.r.t circuit register compatibility.\n",
      "  circuit = top + f2 + end\n"
     ]
    },
    {
     "data": {
      "image/png": "[encoded data removed]",
      "text/plain": [
       "<Figure size 507.852x204.68 with 1 Axes>"
      ]
     },
     "execution_count": 49,
     "metadata": {},
     "output_type": "execute_result"
    }
   ],
   "source": [
    "circuit = top + f2 + end\n",
    "\n",
    "circuit.draw(output='mpl')"
   ]
  },
  {
   "cell_type": "code",
   "execution_count": 50,
   "id": "8b9b6230",
   "metadata": {},
   "outputs": [
    {
     "name": "stdout",
     "output_type": "stream",
     "text": [
      "{'1': 1024}\n"
     ]
    }
   ],
   "source": [
    "sim = qiskit.Aer.get_backend('aer_simulator')\n",
    "\n",
    "result = sim.run(circuit).result().get_counts()\n",
    "\n",
    "print(result)"
   ]
  },
  {
   "cell_type": "code",
   "execution_count": 51,
   "id": "9f6b2824",
   "metadata": {},
   "outputs": [
    {
     "data": {
      "image/png": "[encoded data removed]",
      "text/plain": [
       "<Figure size 206.852x204.68 with 1 Axes>"
      ]
     },
     "execution_count": 51,
     "metadata": {},
     "output_type": "execute_result"
    }
   ],
   "source": [
    "f3 = qiskit.QuantumCircuit(2, 1)\n",
    "\n",
    "f3.i(0)\n",
    "\n",
    "f3.x(1)\n",
    "\n",
    "f3.cnot(0, 1)\n",
    "\n",
    "f3.draw(output='mpl')"
   ]
  },
  {
   "cell_type": "code",
   "execution_count": 52,
   "id": "7053f8fa",
   "metadata": {},
   "outputs": [
    {
     "name": "stderr",
     "output_type": "stream",
     "text": [
      "C:\\Users\\Liam\\AppData\\Local\\Temp/ipykernel_23760/4073677338.py:1: DeprecationWarning: The QuantumCircuit.__add__() method is being deprecated.Use the compose() method which is more flexible w.r.t circuit register compatibility.\n",
      "  circuit = top + f3 + end\n"
     ]
    },
    {
     "data": {
      "image/png": "[encoded data removed]",
      "text/plain": [
       "<Figure size 568.052x204.68 with 1 Axes>"
      ]
     },
     "execution_count": 52,
     "metadata": {},
     "output_type": "execute_result"
    }
   ],
   "source": [
    "circuit = top + f3 + end\n",
    "\n",
    "circuit.draw(output='mpl')"
   ]
  },
  {
   "cell_type": "code",
   "execution_count": 53,
   "id": "30c6af1c",
   "metadata": {},
   "outputs": [
    {
     "name": "stdout",
     "output_type": "stream",
     "text": [
      "{'1': 1024}\n"
     ]
    }
   ],
   "source": [
    "sim = qiskit.Aer.get_backend('aer_simulator')\n",
    "\n",
    "result = sim.run(circuit).result().get_counts()\n",
    "\n",
    "print(result)"
   ]
  },
  {
   "cell_type": "markdown",
   "id": "f3f642d0",
   "metadata": {},
   "source": [
    "# Random Oracle"
   ]
  },
  {
   "cell_type": "code",
   "execution_count": 54,
   "id": "cc2a3d55",
   "metadata": {},
   "outputs": [],
   "source": [
    "oracles = [f1, f2, f3, f4]\n",
    "\n",
    "oracle = random.choice(oracles)"
   ]
  },
  {
   "cell_type": "code",
   "execution_count": 55,
   "id": "120c70af",
   "metadata": {},
   "outputs": [
    {
     "name": "stderr",
     "output_type": "stream",
     "text": [
      "C:\\Users\\Liam\\AppData\\Local\\Temp/ipykernel_23760/1246211029.py:1: DeprecationWarning: The QuantumCircuit.__add__() method is being deprecated.Use the compose() method which is more flexible w.r.t circuit register compatibility.\n",
      "  circuit = top + oracle + end\n"
     ]
    },
    {
     "data": {
      "image/png": "[encoded data removed]",
      "text/plain": [
       "<Figure size 568.052x204.68 with 1 Axes>"
      ]
     },
     "execution_count": 55,
     "metadata": {},
     "output_type": "execute_result"
    }
   ],
   "source": [
    "circuit = top + oracle + end\n",
    "\n",
    "circuit.draw(output='mpl')"
   ]
  },
  {
   "cell_type": "code",
   "execution_count": 56,
   "id": "12c52f0c",
   "metadata": {},
   "outputs": [
    {
     "name": "stdout",
     "output_type": "stream",
     "text": [
      "{'1': 1024}\n"
     ]
    }
   ],
   "source": [
    "sim = qiskit.Aer.get_backend('aer_simulator')\n",
    "\n",
    "result = sim.run(circuit).result().get_counts()\n",
    "\n",
    "print(result)"
   ]
  },
  {
   "cell_type": "code",
   "execution_count": 57,
   "id": "7b079a8b",
   "metadata": {},
   "outputs": [
    {
     "name": "stdout",
     "output_type": "stream",
     "text": [
      "Balanced\n"
     ]
    }
   ],
   "source": [
    "if '1' in result:\n",
    "    print('Balanced')\n",
    "else:\n",
    "    print('Constant')"
   ]
  },
  {
   "cell_type": "markdown",
   "id": "5924f196",
   "metadata": {},
   "source": [
    "# Sources"
   ]
  },
  {
   "cell_type": "markdown",
   "id": "b03d4635",
   "metadata": {},
   "source": [
    "https://www.iberdrola.com/innovation/what-is-quantum-computing\n",
    "\n",
    "https://qiskit.org/textbook/ch-algorithms/deutsch-jozsa.html\n",
    "\n",
    "https://www.quantum-inspire.com/kbase/deutsch-jozsa-algorithm/\n",
    "\n"
   ]
  },
  {
   "cell_type": "markdown",
   "id": "51bd8bbe",
   "metadata": {},
   "source": [
    "# END"
   ]
  }
 ],
 "metadata": {
  "kernelspec": {
   "display_name": "Python 3 (ipykernel)",
   "language": "python",
   "name": "python3"
  },
  "language_info": {
   "codemirror_mode": {
    "name": "ipython",
    "version": 3
   },
   "file_extension": ".py",
   "mimetype": "text/x-python",
   "name": "python",
   "nbconvert_exporter": "python",
   "pygments_lexer": "ipython3",
   "version": "3.9.7"
  }
 },
 "nbformat": 4,
 "nbformat_minor": 5
}
