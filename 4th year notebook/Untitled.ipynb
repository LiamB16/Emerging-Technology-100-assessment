{
 "cells": [
  {
   "cell_type": "markdown",
   "id": "89fbba3e",
   "metadata": {},
   "source": [
    "# Computation\n"
   ]
  },
  {
   "cell_type": "code",
   "execution_count": 1,
   "id": "ab362e0a",
   "metadata": {},
   "outputs": [
    {
     "data": {
      "image/png": "[encoded data removed]",
      "text/plain": [
       "<Figure size 864x432 with 1 Axes>"
      ]
     },
     "metadata": {
      "needs_background": "light"
     },
     "output_type": "display_data"
    }
   ],
   "source": [
    "# Numbers.\n",
    "import numpy as np\n",
    "\n",
    "# Plotting.\n",
    "import matplotlib.pyplot as plt\n",
    "\n",
    "# Create a figure.\n",
    "fig, ax = plt.subplots(figsize=(12, 6))\n",
    "\n",
    "# x values.\n",
    "x = np.linspace(0.0, 3.0, 1000)\n",
    "\n",
    "# Plot polynomial.\n",
    "ax.plot(x, x**2, label=\"$x^2$\")\n",
    "\n",
    "# Plot exponential.\n",
    "ax.plot(x, 2**x, label=\"$2^x$\")\n",
    "\n",
    "# Legend.\n",
    "ax.legend()\n",
    "\n",
    "# Show.\n",
    "plt.show();"
   ]
  },
  {
   "cell_type": "code",
   "execution_count": null,
   "id": "9dd20255",
   "metadata": {},
   "outputs": [],
   "source": []
  },
  {
   "cell_type": "code",
   "execution_count": 2,
   "id": "9525a090",
   "metadata": {},
   "outputs": [
    {
     "name": "stdout",
     "output_type": "stream",
     "text": [
      "X01110001\n",
      "0X1110001\n",
      "01Y110001\n",
      "011X10001\n",
      "0111Y0001\n",
      "01110Y001\n",
      "011100Y01\n",
      "0111000Y1\n",
      "01110001X_\n",
      "01110001_T_\n"
     ]
    }
   ],
   "source": [
    "# State table.\n",
    "table = {\n",
    "    ('X', '_'): ['_', 'R', 'T'],\n",
    "    ('X', '0'): ['0', 'R', 'X'],\n",
    "    ('X', '1'): ['1', 'R', 'Y'],\n",
    "    ('Y', '_'): ['_', 'R', 'F'],\n",
    "    ('Y', '0'): ['0', 'R', 'Y'],\n",
    "    ('Y', '1'): ['1', 'R', 'X'],\n",
    "}\n",
    "\n",
    "# Tape input.\n",
    "tape = list('01110001')\n",
    "# Position on tape.\n",
    "pos = 0\n",
    "# Initial state is first in table.\n",
    "state = 'X'\n",
    "\n",
    "# Keep going while we are not in a halting state.\n",
    "while state not in ['T', 'F']:\n",
    "    # Print the current status.\n",
    "    print(''.join(tape[:pos]) + state + ''.join(tape[pos:]))\n",
    "    # Get the row of the table.\n",
    "    row = table[(state, tape[pos])]\n",
    "    # Overwrite the symbol.\n",
    "    tape[pos] = row[0]\n",
    "    # Move left or right.\n",
    "    if row[1] == 'R':\n",
    "        # Put blanks on tape as necessary.\n",
    "        if pos == len(tape) - 1:\n",
    "            tape = tape + ['_']\n",
    "        # Increase position.\n",
    "        pos = pos + 1\n",
    "    else:\n",
    "        # Put blanks on tape as necessary.\n",
    "        if pos == 0:\n",
    "            tape = ['_'] + tape\n",
    "            # The position on the tape has to move with it.\n",
    "            pos = pos + 1\n",
    "        # Increase position.\n",
    "        pos = pos - 1\n",
    "    # Update the state.\n",
    "    state = row[2]\n",
    "\n",
    "# Print the current status.\n",
    "print(''.join(tape[:pos]) + state + ''.join(tape[pos:]))"
   ]
  },
  {
   "cell_type": "code",
   "execution_count": null,
   "id": "76bab19d",
   "metadata": {},
   "outputs": [],
   "source": []
  },
  {
   "cell_type": "code",
   "execution_count": null,
   "id": "89e4c804",
   "metadata": {},
   "outputs": [],
   "source": []
  },
  {
   "cell_type": "code",
   "execution_count": null,
   "id": "4dfe98d7",
   "metadata": {},
   "outputs": [],
   "source": []
  },
  {
   "cell_type": "code",
   "execution_count": null,
   "id": "b9aa1e9d",
   "metadata": {},
   "outputs": [],
   "source": []
  },
  {
   "cell_type": "markdown",
   "id": "968603cf",
   "metadata": {},
   "source": [
    "# end"
   ]
  }
 ],
 "metadata": {
  "kernelspec": {
   "display_name": "Python 3 (ipykernel)",
   "language": "python",
   "name": "python3"
  },
  "language_info": {
   "codemirror_mode": {
    "name": "ipython",
    "version": 3
   },
   "file_extension": ".py",
   "mimetype": "text/x-python",
   "name": "python",
   "nbconvert_exporter": "python",
   "pygments_lexer": "ipython3",
   "version": "3.9.7"
  }
 },
 "nbformat": 4,
 "nbformat_minor": 5
}
