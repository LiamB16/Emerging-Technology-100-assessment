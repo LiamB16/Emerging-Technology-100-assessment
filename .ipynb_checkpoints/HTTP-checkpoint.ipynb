{
 "cells": [
  {
   "cell_type": "markdown",
   "id": "89fbba3e",
   "metadata": {},
   "source": [
    "# HTTP\n"
   ]
  },
  {
   "cell_type": "markdown",
   "id": "1f9f4b1a",
   "metadata": {},
   "source": [
    "HTTP (Hyper Text Transfer Protocol) is a method of communication between two machines. The client (Users) sends a request to the server(website) for a resource (webpage). If the user has"
   ]
  },
  {
   "cell_type": "markdown",
   "id": "57642ac0",
   "metadata": {},
   "source": []
  },
  {
   "cell_type": "markdown",
   "id": "d163c886",
   "metadata": {},
   "source": []
  },
  {
   "cell_type": "markdown",
   "id": "168138ee",
   "metadata": {},
   "source": [
    "# HTTP vs HTTPs "
   ]
  },
  {
   "cell_type": "markdown",
   "id": "837896ab",
   "metadata": {},
   "source": []
  },
  {
   "cell_type": "markdown",
   "id": "cddad75d",
   "metadata": {},
   "source": []
  },
  {
   "cell_type": "markdown",
   "id": "e6edf78e",
   "metadata": {},
   "source": []
  },
  {
   "cell_type": "markdown",
   "id": "01e33d20",
   "metadata": {},
   "source": []
  },
  {
   "cell_type": "markdown",
   "id": "0a74d222",
   "metadata": {},
   "source": []
  },
  {
   "cell_type": "markdown",
   "id": "5a420351",
   "metadata": {},
   "source": [
    "# What i liked learning about learning HTTP"
   ]
  },
  {
   "cell_type": "markdown",
   "id": "210c5c94",
   "metadata": {},
   "source": []
  },
  {
   "cell_type": "markdown",
   "id": "9c1209e6",
   "metadata": {},
   "source": []
  },
  {
   "cell_type": "markdown",
   "id": "21baeca1",
   "metadata": {},
   "source": [
    "# Sources"
   ]
  },
  {
   "cell_type": "markdown",
   "id": "46189d9f",
   "metadata": {},
   "source": []
  },
  {
   "cell_type": "markdown",
   "id": "968603cf",
   "metadata": {},
   "source": [
    "# end"
   ]
  }
 ],
 "metadata": {
  "kernelspec": {
   "display_name": "Python 3 (ipykernel)",
   "language": "python",
   "name": "python3"
  },
  "language_info": {
   "codemirror_mode": {
    "name": "ipython",
    "version": 3
   },
   "file_extension": ".py",
   "mimetype": "text/x-python",
   "name": "python",
   "nbconvert_exporter": "python",
   "pygments_lexer": "ipython3",
   "version": "3.9.7"
  }
 },
 "nbformat": 4,
 "nbformat_minor": 5
}
