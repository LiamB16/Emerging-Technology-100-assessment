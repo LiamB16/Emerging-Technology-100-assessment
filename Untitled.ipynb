{
 "cells": [
  {
   "cell_type": "markdown",
   "id": "89fbba3e",
   "metadata": {},
   "source": [
    "# HTTP\n"
   ]
  },
  {
   "cell_type": "markdown",
   "id": "dc072b67",
   "metadata": {},
   "source": [
    "HTTP (Hyper Text Transfer Protocol) is a method of communication between two machines. The client (Users) sends a request to the server(website) for a resource (webpage). If the user has"
   ]
  },
  {
   "cell_type": "markdown",
   "id": "69612b28",
   "metadata": {},
   "source": []
  },
  {
   "cell_type": "markdown",
   "id": "2b5ec734",
   "metadata": {},
   "source": []
  },
  {
   "cell_type": "markdown",
   "id": "74e20fec",
   "metadata": {},
   "source": [
    "# HTTP vs HTTPs "
   ]
  },
  {
   "cell_type": "markdown",
   "id": "9c742a66",
   "metadata": {},
   "source": []
  },
  {
   "cell_type": "markdown",
   "id": "299c6d87",
   "metadata": {},
   "source": []
  },
  {
   "cell_type": "markdown",
   "id": "c495b49f",
   "metadata": {},
   "source": []
  },
  {
   "cell_type": "markdown",
   "id": "2ea20058",
   "metadata": {},
   "source": []
  },
  {
   "cell_type": "markdown",
   "id": "1dfe0496",
   "metadata": {},
   "source": []
  },
  {
   "cell_type": "markdown",
   "id": "1950709c",
   "metadata": {},
   "source": [
    "# What i liked learning about learning HTTP"
   ]
  },
  {
   "cell_type": "markdown",
   "id": "3c7331d8",
   "metadata": {},
   "source": []
  },
  {
   "cell_type": "markdown",
   "id": "4418a5bf",
   "metadata": {},
   "source": []
  },
  {
   "cell_type": "markdown",
   "id": "dd841d8a",
   "metadata": {},
   "source": [
    "# Sources"
   ]
  },
  {
   "cell_type": "markdown",
   "id": "68887604",
   "metadata": {},
   "source": []
  },
  {
   "cell_type": "markdown",
   "id": "968603cf",
   "metadata": {},
   "source": [
    "# end"
   ]
  }
 ],
 "metadata": {
  "kernelspec": {
   "display_name": "Python 3 (ipykernel)",
   "language": "python",
   "name": "python3"
  },
  "language_info": {
   "codemirror_mode": {
    "name": "ipython",
    "version": 3
   },
   "file_extension": ".py",
   "mimetype": "text/x-python",
   "name": "python",
   "nbconvert_exporter": "python",
   "pygments_lexer": "ipython3",
   "version": "3.9.7"
  }
 },
 "nbformat": 4,
 "nbformat_minor": 5
}
